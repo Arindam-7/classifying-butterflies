{
  "cells": [
    {
      "cell_type": "code",
      "execution_count": null,
      "id": "74442f70",
      "metadata": {
        "_cell_guid": "b1076dfc-b9ad-4769-8c92-a6c4dae69d19",
        "_uuid": "8f2839f25d086af736a60e9eeb907d3b93b6e0e5",
        "execution": {
          "iopub.execute_input": "2023-06-27T09:19:22.255771Z",
          "iopub.status.busy": "2023-06-27T09:19:22.255293Z",
          "iopub.status.idle": "2023-06-27T09:19:43.269132Z",
          "shell.execute_reply": "2023-06-27T09:19:43.267396Z"
        },
        "papermill": {
          "duration": 21.029349,
          "end_time": "2023-06-27T09:19:43.272411",
          "exception": false,
          "start_time": "2023-06-27T09:19:22.243062",
          "status": "completed"
        },
        "tags": [],
        "id": "74442f70",
        "outputId": "40ff6080-0fde-4bf0-cfa0-e5dc6aa3f934"
      },
      "outputs": [
        {
          "name": "stderr",
          "output_type": "stream",
          "text": [
            "/opt/conda/lib/python3.10/site-packages/tensorflow_io/python/ops/__init__.py:98: UserWarning: unable to load libtensorflow_io_plugins.so: unable to open file: libtensorflow_io_plugins.so, from paths: ['/opt/conda/lib/python3.10/site-packages/tensorflow_io/python/ops/libtensorflow_io_plugins.so']\n",
            "caused by: ['/opt/conda/lib/python3.10/site-packages/tensorflow_io/python/ops/libtensorflow_io_plugins.so: undefined symbol: _ZN3tsl6StatusC1EN10tensorflow5error4CodeESt17basic_string_viewIcSt11char_traitsIcEENS_14SourceLocationE']\n",
            "  warnings.warn(f\"unable to load libtensorflow_io_plugins.so: {e}\")\n",
            "/opt/conda/lib/python3.10/site-packages/tensorflow_io/python/ops/__init__.py:104: UserWarning: file system plugins are not loaded: unable to open file: libtensorflow_io.so, from paths: ['/opt/conda/lib/python3.10/site-packages/tensorflow_io/python/ops/libtensorflow_io.so']\n",
            "caused by: ['/opt/conda/lib/python3.10/site-packages/tensorflow_io/python/ops/libtensorflow_io.so: undefined symbol: _ZTVN10tensorflow13GcsFileSystemE']\n",
            "  warnings.warn(f\"file system plugins are not loaded: {e}\")\n"
          ]
        }
      ],
      "source": [
        "import tensorflow as tf\n",
        "import numpy as np\n",
        "from PIL import Image\n",
        "\n",
        "model = tf.saved_model.load('./butterfly-classification-mobilenet/MobileNet')\n",
        "classes = [ \"ADONIS\" ,  \"AFRICAN GIANT SWALLOWTAIL\" ,  \"AMERICAN SNOOT\" ,  \"AN 88\" ,  \"APPOLLO\" ,\n",
        "           \"ATALA\" ,  \"BANDED ORANGE HELICONIAN\" ,  \"BANDED PEACOCK\" ,  \"BECKERS WHITE\" ,\n",
        "           \"BLACK HAIRSTREAK\" ,  \"BLUE MORPHO\" ,  \"BLUE SPOTTED CROW\" ,  \"BROWN SIPROETA\" ,\n",
        "           \"CABBAGE WHITE\" ,  \"CAIRNS BIRDWING\" ,  \"CHECQUERED SKIPPER\" ,  \"CHESTNUT\" ,  \"CLEOPATRA\" ,\n",
        "           \"CLODIUS PARNASSIAN\" ,  \"CLOUDED SULPHUR\" ,  \"COMMON BANDED AWL\" ,  \"COMMON WOOD-NYMPH\" ,\n",
        "           \"COPPER TAIL\" ,  \"CRECENT\" ,  \"CRIMSON PATCH\" ,  \"DANAID EGGFLY\" ,  \"EASTERN COMA\" ,\n",
        "           \"EASTERN DAPPLE WHITE\" ,  \"EASTERN PINE ELFIN\" ,  \"ELBOWED PIERROT\" ,  \"GOLD BANDED\" ,\n",
        "           \"GREAT EGGFLY\" ,  \"GREAT JAY\" ,  \"GREEN CELLED CATTLEHEART\" ,  \"GREY HAIRSTREAK\" ,\n",
        "           \"INDRA SWALLOW\" ,  \"IPHICLUS SISTER\" ,  \"JULIA\" ,  \"LARGE MARBLE\" ,  \"MALACHITE\" ,\n",
        "           \"MANGROVE SKIPPER\" ,  \"MESTRA\" ,  \"METALMARK\" ,  \"MILBERTS TORTOISESHELL\" ,  \"MONARCH\" ,\n",
        "           \"MOURNING CLOAK\" ,  \"ORANGE OAKLEAF\" ,  \"ORANGE TIP\" ,  \"ORCHARD SWALLOW\" ,  \"PAINTED LADY\" ,\n",
        "           \"PAPER KITE\" ,  \"PEACOCK\" ,  \"PINE WHITE\" ,  \"PIPEVINE SWALLOW\" ,  \"POPINJAY\" ,\n",
        "           \"PURPLE HAIRSTREAK\" ,  \"PURPLISH COPPER\" ,  \"QUESTION MARK\" ,  \"RED ADMIRAL\" ,\n",
        "           \"RED CRACKER\" ,  \"RED POSTMAN\" ,  \"RED SPOTTED PURPLE\" ,  \"SCARCE SWALLOW\" ,\n",
        "           \"SILVER SPOT SKIPPER\" ,  \"SLEEPY ORANGE\" ,  \"SOOTYWING\" ,  \"SOUTHERN DOGFACE\" ,\n",
        "           \"STRAITED QUEEN\" ,  \"TROPICAL LEAFWING\" ,  \"TWO BARRED FLASHER\" ,  \"ULYSES\" ,  \"VICEROY\" ,\n",
        "           \"WOOD SATYR\" ,  \"YELLOW SWALLOW TAIL\" ,  \"ZEBRA LONG WING\" , ]"
      ]
    },
    {
      "cell_type": "code",
      "execution_count": null,
      "id": "d9b1035c",
      "metadata": {
        "execution": {
          "iopub.execute_input": "2023-06-27T09:19:43.292675Z",
          "iopub.status.busy": "2023-06-27T09:19:43.292098Z",
          "iopub.status.idle": "2023-06-27T09:19:44.071011Z",
          "shell.execute_reply": "2023-06-27T09:19:44.069524Z"
        },
        "papermill": {
          "duration": 0.792661,
          "end_time": "2023-06-27T09:19:44.073955",
          "exception": false,
          "start_time": "2023-06-27T09:19:43.281294",
          "status": "completed"
        },
        "tags": [],
        "id": "d9b1035c",
        "outputId": "50f47140-b527-4857-f36e-2130321724e4"
      },
      "outputs": [
        {
          "data": {
            "text/plain": [
              "['/kaggle/input/butterfly-classification/train/PIPEVINE SWALLOW/Image_39_9710870cb3e749e68eb3a7c454c4de81.jpg',\n",
              " '/kaggle/input/butterfly-classification/train/PIPEVINE SWALLOW/Image_6485_7366ef4503fb403f9164fe289a3fbf33.jpg',\n",
              " '/kaggle/input/butterfly-classification/train/PIPEVINE SWALLOW/Image_1897_4e6e41ee37fd40908265afa086d72d0b.jpg',\n",
              " '/kaggle/input/butterfly-classification/train/PIPEVINE SWALLOW/Image_1507_48dcd926c51b46bfb3c86cf57a1b4514.jpg',\n",
              " '/kaggle/input/butterfly-classification/train/PIPEVINE SWALLOW/Image_4603_053a7e610d9e4d0795d35a08dd76996e.jpg']"
            ]
          },
          "execution_count": 2,
          "metadata": {},
          "output_type": "execute_result"
        }
      ],
      "source": [
        "Id=[]\n",
        "import numpy as np\n",
        "import pandas as pd\n",
        "\n",
        "import os\n",
        "for dirname, _, filenames in os.walk('./butterfly-classification/train'):\n",
        "    for filename in filenames:\n",
        "        Id.append(os.path.join(dirname, filename))\n",
        "Id[:5]"
      ]
    },
    {
      "cell_type": "code",
      "execution_count": null,
      "id": "832f0009",
      "metadata": {
        "execution": {
          "iopub.execute_input": "2023-06-27T09:19:44.093685Z",
          "iopub.status.busy": "2023-06-27T09:19:44.093143Z",
          "iopub.status.idle": "2023-06-27T09:19:44.140847Z",
          "shell.execute_reply": "2023-06-27T09:19:44.139544Z"
        },
        "papermill": {
          "duration": 0.061079,
          "end_time": "2023-06-27T09:19:44.143993",
          "exception": false,
          "start_time": "2023-06-27T09:19:44.082914",
          "status": "completed"
        },
        "tags": [],
        "id": "832f0009",
        "outputId": "71e0eb1b-e700-4169-b99a-d1fff7171d79"
      },
      "outputs": [
        {
          "data": {
            "text/html": [
              "<div>\n",
              "<style scoped>\n",
              "    .dataframe tbody tr th:only-of-type {\n",
              "        vertical-align: middle;\n",
              "    }\n",
              "\n",
              "    .dataframe tbody tr th {\n",
              "        vertical-align: top;\n",
              "    }\n",
              "\n",
              "    .dataframe thead th {\n",
              "        text-align: right;\n",
              "    }\n",
              "</style>\n",
              "<table border=\"1\" class=\"dataframe\">\n",
              "  <thead>\n",
              "    <tr style=\"text-align: right;\">\n",
              "      <th></th>\n",
              "      <th>filename</th>\n",
              "    </tr>\n",
              "  </thead>\n",
              "  <tbody>\n",
              "    <tr>\n",
              "      <th>0</th>\n",
              "      <td>/kaggle/input/butterfly-classification/train/P...</td>\n",
              "    </tr>\n",
              "    <tr>\n",
              "      <th>1</th>\n",
              "      <td>/kaggle/input/butterfly-classification/train/P...</td>\n",
              "    </tr>\n",
              "    <tr>\n",
              "      <th>2</th>\n",
              "      <td>/kaggle/input/butterfly-classification/train/P...</td>\n",
              "    </tr>\n",
              "    <tr>\n",
              "      <th>3</th>\n",
              "      <td>/kaggle/input/butterfly-classification/train/P...</td>\n",
              "    </tr>\n",
              "    <tr>\n",
              "      <th>4</th>\n",
              "      <td>/kaggle/input/butterfly-classification/train/P...</td>\n",
              "    </tr>\n",
              "  </tbody>\n",
              "</table>\n",
              "</div>"
            ],
            "text/plain": [
              "                                            filename\n",
              "0  /kaggle/input/butterfly-classification/train/P...\n",
              "1  /kaggle/input/butterfly-classification/train/P...\n",
              "2  /kaggle/input/butterfly-classification/train/P...\n",
              "3  /kaggle/input/butterfly-classification/train/P...\n",
              "4  /kaggle/input/butterfly-classification/train/P..."
            ]
          },
          "execution_count": 3,
          "metadata": {},
          "output_type": "execute_result"
        }
      ],
      "source": [
        "train=pd.DataFrame()\n",
        "train=train.assign(filename=Id)\n",
        "train.head()"
      ]
    },
    {
      "cell_type": "code",
      "execution_count": null,
      "id": "0cdf5f69",
      "metadata": {
        "execution": {
          "iopub.execute_input": "2023-06-27T09:19:44.165251Z",
          "iopub.status.busy": "2023-06-27T09:19:44.164714Z",
          "iopub.status.idle": "2023-06-27T09:19:44.190419Z",
          "shell.execute_reply": "2023-06-27T09:19:44.188990Z"
        },
        "papermill": {
          "duration": 0.040553,
          "end_time": "2023-06-27T09:19:44.193488",
          "exception": false,
          "start_time": "2023-06-27T09:19:44.152935",
          "status": "completed"
        },
        "tags": [],
        "id": "0cdf5f69",
        "outputId": "4f8b5eae-0f3e-47d2-9b17-4a98607801fb"
      },
      "outputs": [
        {
          "data": {
            "text/html": [
              "<div>\n",
              "<style scoped>\n",
              "    .dataframe tbody tr th:only-of-type {\n",
              "        vertical-align: middle;\n",
              "    }\n",
              "\n",
              "    .dataframe tbody tr th {\n",
              "        vertical-align: top;\n",
              "    }\n",
              "\n",
              "    .dataframe thead th {\n",
              "        text-align: right;\n",
              "    }\n",
              "</style>\n",
              "<table border=\"1\" class=\"dataframe\">\n",
              "  <thead>\n",
              "    <tr style=\"text-align: right;\">\n",
              "      <th></th>\n",
              "      <th>filename</th>\n",
              "      <th>label</th>\n",
              "    </tr>\n",
              "  </thead>\n",
              "  <tbody>\n",
              "    <tr>\n",
              "      <th>0</th>\n",
              "      <td>/kaggle/input/butterfly-classification/train/P...</td>\n",
              "      <td>PIPEVINE SWALLOW/Image_39_9710870cb3e749e68eb3...</td>\n",
              "    </tr>\n",
              "    <tr>\n",
              "      <th>1</th>\n",
              "      <td>/kaggle/input/butterfly-classification/train/P...</td>\n",
              "      <td>PIPEVINE SWALLOW/Image_6485_7366ef4503fb403f91...</td>\n",
              "    </tr>\n",
              "    <tr>\n",
              "      <th>2</th>\n",
              "      <td>/kaggle/input/butterfly-classification/train/P...</td>\n",
              "      <td>PIPEVINE SWALLOW/Image_1897_4e6e41ee37fd409082...</td>\n",
              "    </tr>\n",
              "    <tr>\n",
              "      <th>3</th>\n",
              "      <td>/kaggle/input/butterfly-classification/train/P...</td>\n",
              "      <td>PIPEVINE SWALLOW/Image_1507_48dcd926c51b46bfb3...</td>\n",
              "    </tr>\n",
              "    <tr>\n",
              "      <th>4</th>\n",
              "      <td>/kaggle/input/butterfly-classification/train/P...</td>\n",
              "      <td>PIPEVINE SWALLOW/Image_4603_053a7e610d9e4d0795...</td>\n",
              "    </tr>\n",
              "  </tbody>\n",
              "</table>\n",
              "</div>"
            ],
            "text/plain": [
              "                                            filename  \\\n",
              "0  /kaggle/input/butterfly-classification/train/P...   \n",
              "1  /kaggle/input/butterfly-classification/train/P...   \n",
              "2  /kaggle/input/butterfly-classification/train/P...   \n",
              "3  /kaggle/input/butterfly-classification/train/P...   \n",
              "4  /kaggle/input/butterfly-classification/train/P...   \n",
              "\n",
              "                                               label  \n",
              "0  PIPEVINE SWALLOW/Image_39_9710870cb3e749e68eb3...  \n",
              "1  PIPEVINE SWALLOW/Image_6485_7366ef4503fb403f91...  \n",
              "2  PIPEVINE SWALLOW/Image_1897_4e6e41ee37fd409082...  \n",
              "3  PIPEVINE SWALLOW/Image_1507_48dcd926c51b46bfb3...  \n",
              "4  PIPEVINE SWALLOW/Image_4603_053a7e610d9e4d0795...  "
            ]
          },
          "execution_count": 4,
          "metadata": {},
          "output_type": "execute_result"
        }
      ],
      "source": [
        "train['label']=train['filename']\n",
        "train['label']=train['label'].str.replace('./butterfly-classification/train/','')\n",
        "train.head()"
      ]
    },
    {
      "cell_type": "code",
      "execution_count": null,
      "id": "70ccae39",
      "metadata": {
        "execution": {
          "iopub.execute_input": "2023-06-27T09:19:44.217981Z",
          "iopub.status.busy": "2023-06-27T09:19:44.216781Z",
          "iopub.status.idle": "2023-06-27T09:19:44.242534Z",
          "shell.execute_reply": "2023-06-27T09:19:44.241024Z"
        },
        "papermill": {
          "duration": 0.04074,
          "end_time": "2023-06-27T09:19:44.245779",
          "exception": false,
          "start_time": "2023-06-27T09:19:44.205039",
          "status": "completed"
        },
        "tags": [],
        "id": "70ccae39",
        "outputId": "d058e99d-e918-4a13-f993-7b15f77f9f02"
      },
      "outputs": [
        {
          "data": {
            "text/html": [
              "<div>\n",
              "<style scoped>\n",
              "    .dataframe tbody tr th:only-of-type {\n",
              "        vertical-align: middle;\n",
              "    }\n",
              "\n",
              "    .dataframe tbody tr th {\n",
              "        vertical-align: top;\n",
              "    }\n",
              "\n",
              "    .dataframe thead th {\n",
              "        text-align: right;\n",
              "    }\n",
              "</style>\n",
              "<table border=\"1\" class=\"dataframe\">\n",
              "  <thead>\n",
              "    <tr style=\"text-align: right;\">\n",
              "      <th></th>\n",
              "      <th>filename</th>\n",
              "      <th>label</th>\n",
              "    </tr>\n",
              "  </thead>\n",
              "  <tbody>\n",
              "    <tr>\n",
              "      <th>0</th>\n",
              "      <td>/kaggle/input/butterfly-classification/train/P...</td>\n",
              "      <td>PIPEVINE SWALLOW</td>\n",
              "    </tr>\n",
              "    <tr>\n",
              "      <th>1</th>\n",
              "      <td>/kaggle/input/butterfly-classification/train/P...</td>\n",
              "      <td>PIPEVINE SWALLOW</td>\n",
              "    </tr>\n",
              "    <tr>\n",
              "      <th>2</th>\n",
              "      <td>/kaggle/input/butterfly-classification/train/P...</td>\n",
              "      <td>PIPEVINE SWALLOW</td>\n",
              "    </tr>\n",
              "    <tr>\n",
              "      <th>3</th>\n",
              "      <td>/kaggle/input/butterfly-classification/train/P...</td>\n",
              "      <td>PIPEVINE SWALLOW</td>\n",
              "    </tr>\n",
              "    <tr>\n",
              "      <th>4</th>\n",
              "      <td>/kaggle/input/butterfly-classification/train/P...</td>\n",
              "      <td>PIPEVINE SWALLOW</td>\n",
              "    </tr>\n",
              "  </tbody>\n",
              "</table>\n",
              "</div>"
            ],
            "text/plain": [
              "                                            filename             label\n",
              "0  /kaggle/input/butterfly-classification/train/P...  PIPEVINE SWALLOW\n",
              "1  /kaggle/input/butterfly-classification/train/P...  PIPEVINE SWALLOW\n",
              "2  /kaggle/input/butterfly-classification/train/P...  PIPEVINE SWALLOW\n",
              "3  /kaggle/input/butterfly-classification/train/P...  PIPEVINE SWALLOW\n",
              "4  /kaggle/input/butterfly-classification/train/P...  PIPEVINE SWALLOW"
            ]
          },
          "execution_count": 5,
          "metadata": {},
          "output_type": "execute_result"
        }
      ],
      "source": [
        "train['label'] = train['label'].str.split('/').str[0]\n",
        "train.head()"
      ]
    },
    {
      "cell_type": "code",
      "execution_count": null,
      "id": "25c775bc",
      "metadata": {
        "execution": {
          "iopub.execute_input": "2023-06-27T09:19:44.268198Z",
          "iopub.status.busy": "2023-06-27T09:19:44.267690Z",
          "iopub.status.idle": "2023-06-27T09:19:44.689145Z",
          "shell.execute_reply": "2023-06-27T09:19:44.687558Z"
        },
        "papermill": {
          "duration": 0.436939,
          "end_time": "2023-06-27T09:19:44.692193",
          "exception": false,
          "start_time": "2023-06-27T09:19:44.255254",
          "status": "completed"
        },
        "tags": [],
        "id": "25c775bc",
        "outputId": "fb6aab11-0474-4f2b-ea88-b1150ddd1a29"
      },
      "outputs": [
        {
          "data": {
            "text/plain": [
              "['/kaggle/input/butterfly-classification/test/PIPEVINE SWALLOW/Image_4530_7267fce1323741549658090d2d9460c9.jpg',\n",
              " '/kaggle/input/butterfly-classification/test/PIPEVINE SWALLOW/Image_5065_c019215c467c42deb5a3cf2377284c3e.jpg',\n",
              " '/kaggle/input/butterfly-classification/test/PIPEVINE SWALLOW/Image_1125_0807022e08a14d90b2537ce0639a6900.jpg',\n",
              " '/kaggle/input/butterfly-classification/test/PIPEVINE SWALLOW/Image_6175_bad9c21142ae41198d9824c2372eeecf.jpg',\n",
              " '/kaggle/input/butterfly-classification/test/PIPEVINE SWALLOW/Image_5978_44b308bcfa2a43df896b4cb0521fdbde.jpg']"
            ]
          },
          "execution_count": 6,
          "metadata": {},
          "output_type": "execute_result"
        }
      ],
      "source": [
        "Id=[]\n",
        "import numpy as np\n",
        "import pandas as pd\n",
        "\n",
        "import os\n",
        "for dirname, _, filenames in os.walk('./butterfly-classification/test'):\n",
        "    for filename in filenames:\n",
        "        Id.append(os.path.join(dirname, filename))\n",
        "Id[:5]"
      ]
    },
    {
      "cell_type": "code",
      "execution_count": null,
      "id": "1e2766d1",
      "metadata": {
        "execution": {
          "iopub.execute_input": "2023-06-27T09:19:44.715243Z",
          "iopub.status.busy": "2023-06-27T09:19:44.714690Z",
          "iopub.status.idle": "2023-06-27T09:19:44.730391Z",
          "shell.execute_reply": "2023-06-27T09:19:44.728350Z"
        },
        "papermill": {
          "duration": 0.03002,
          "end_time": "2023-06-27T09:19:44.733203",
          "exception": false,
          "start_time": "2023-06-27T09:19:44.703183",
          "status": "completed"
        },
        "tags": [],
        "id": "1e2766d1",
        "outputId": "7df79a1e-6bf5-4e82-e4fa-83e0cadf1e46"
      },
      "outputs": [
        {
          "data": {
            "text/html": [
              "<div>\n",
              "<style scoped>\n",
              "    .dataframe tbody tr th:only-of-type {\n",
              "        vertical-align: middle;\n",
              "    }\n",
              "\n",
              "    .dataframe tbody tr th {\n",
              "        vertical-align: top;\n",
              "    }\n",
              "\n",
              "    .dataframe thead th {\n",
              "        text-align: right;\n",
              "    }\n",
              "</style>\n",
              "<table border=\"1\" class=\"dataframe\">\n",
              "  <thead>\n",
              "    <tr style=\"text-align: right;\">\n",
              "      <th></th>\n",
              "      <th>filename</th>\n",
              "    </tr>\n",
              "  </thead>\n",
              "  <tbody>\n",
              "    <tr>\n",
              "      <th>0</th>\n",
              "      <td>/kaggle/input/butterfly-classification/test/PI...</td>\n",
              "    </tr>\n",
              "    <tr>\n",
              "      <th>1</th>\n",
              "      <td>/kaggle/input/butterfly-classification/test/PI...</td>\n",
              "    </tr>\n",
              "    <tr>\n",
              "      <th>2</th>\n",
              "      <td>/kaggle/input/butterfly-classification/test/PI...</td>\n",
              "    </tr>\n",
              "    <tr>\n",
              "      <th>3</th>\n",
              "      <td>/kaggle/input/butterfly-classification/test/PI...</td>\n",
              "    </tr>\n",
              "    <tr>\n",
              "      <th>4</th>\n",
              "      <td>/kaggle/input/butterfly-classification/test/PI...</td>\n",
              "    </tr>\n",
              "  </tbody>\n",
              "</table>\n",
              "</div>"
            ],
            "text/plain": [
              "                                            filename\n",
              "0  /kaggle/input/butterfly-classification/test/PI...\n",
              "1  /kaggle/input/butterfly-classification/test/PI...\n",
              "2  /kaggle/input/butterfly-classification/test/PI...\n",
              "3  /kaggle/input/butterfly-classification/test/PI...\n",
              "4  /kaggle/input/butterfly-classification/test/PI..."
            ]
          },
          "execution_count": 7,
          "metadata": {},
          "output_type": "execute_result"
        }
      ],
      "source": [
        "test=pd.DataFrame()\n",
        "test=test.assign(filename=Id)\n",
        "test.head()"
      ]
    },
    {
      "cell_type": "code",
      "execution_count": null,
      "id": "d0d41b38",
      "metadata": {
        "execution": {
          "iopub.execute_input": "2023-06-27T09:19:44.756962Z",
          "iopub.status.busy": "2023-06-27T09:19:44.755985Z",
          "iopub.status.idle": "2023-06-27T09:19:44.774364Z",
          "shell.execute_reply": "2023-06-27T09:19:44.773293Z"
        },
        "papermill": {
          "duration": 0.033419,
          "end_time": "2023-06-27T09:19:44.777401",
          "exception": false,
          "start_time": "2023-06-27T09:19:44.743982",
          "status": "completed"
        },
        "tags": [],
        "id": "d0d41b38",
        "outputId": "ce9f6017-6df3-4eba-8209-95c7e3cfc606"
      },
      "outputs": [
        {
          "data": {
            "text/html": [
              "<div>\n",
              "<style scoped>\n",
              "    .dataframe tbody tr th:only-of-type {\n",
              "        vertical-align: middle;\n",
              "    }\n",
              "\n",
              "    .dataframe tbody tr th {\n",
              "        vertical-align: top;\n",
              "    }\n",
              "\n",
              "    .dataframe thead th {\n",
              "        text-align: right;\n",
              "    }\n",
              "</style>\n",
              "<table border=\"1\" class=\"dataframe\">\n",
              "  <thead>\n",
              "    <tr style=\"text-align: right;\">\n",
              "      <th></th>\n",
              "      <th>filename</th>\n",
              "      <th>label</th>\n",
              "    </tr>\n",
              "  </thead>\n",
              "  <tbody>\n",
              "    <tr>\n",
              "      <th>0</th>\n",
              "      <td>/kaggle/input/butterfly-classification/test/PI...</td>\n",
              "      <td>PIPEVINE SWALLOW/Image_4530_7267fce13237415496...</td>\n",
              "    </tr>\n",
              "    <tr>\n",
              "      <th>1</th>\n",
              "      <td>/kaggle/input/butterfly-classification/test/PI...</td>\n",
              "      <td>PIPEVINE SWALLOW/Image_5065_c019215c467c42deb5...</td>\n",
              "    </tr>\n",
              "    <tr>\n",
              "      <th>2</th>\n",
              "      <td>/kaggle/input/butterfly-classification/test/PI...</td>\n",
              "      <td>PIPEVINE SWALLOW/Image_1125_0807022e08a14d90b2...</td>\n",
              "    </tr>\n",
              "    <tr>\n",
              "      <th>3</th>\n",
              "      <td>/kaggle/input/butterfly-classification/test/PI...</td>\n",
              "      <td>PIPEVINE SWALLOW/Image_6175_bad9c21142ae41198d...</td>\n",
              "    </tr>\n",
              "    <tr>\n",
              "      <th>4</th>\n",
              "      <td>/kaggle/input/butterfly-classification/test/PI...</td>\n",
              "      <td>PIPEVINE SWALLOW/Image_5978_44b308bcfa2a43df89...</td>\n",
              "    </tr>\n",
              "  </tbody>\n",
              "</table>\n",
              "</div>"
            ],
            "text/plain": [
              "                                            filename  \\\n",
              "0  /kaggle/input/butterfly-classification/test/PI...   \n",
              "1  /kaggle/input/butterfly-classification/test/PI...   \n",
              "2  /kaggle/input/butterfly-classification/test/PI...   \n",
              "3  /kaggle/input/butterfly-classification/test/PI...   \n",
              "4  /kaggle/input/butterfly-classification/test/PI...   \n",
              "\n",
              "                                               label  \n",
              "0  PIPEVINE SWALLOW/Image_4530_7267fce13237415496...  \n",
              "1  PIPEVINE SWALLOW/Image_5065_c019215c467c42deb5...  \n",
              "2  PIPEVINE SWALLOW/Image_1125_0807022e08a14d90b2...  \n",
              "3  PIPEVINE SWALLOW/Image_6175_bad9c21142ae41198d...  \n",
              "4  PIPEVINE SWALLOW/Image_5978_44b308bcfa2a43df89...  "
            ]
          },
          "execution_count": 8,
          "metadata": {},
          "output_type": "execute_result"
        }
      ],
      "source": [
        "test['label']=test['filename']\n",
        "test['label']=test['label'].str.replace('./butterfly-classification/test/','')\n",
        "test.head()"
      ]
    },
    {
      "cell_type": "code",
      "execution_count": null,
      "id": "55d51b0d",
      "metadata": {
        "execution": {
          "iopub.execute_input": "2023-06-27T09:19:44.801922Z",
          "iopub.status.busy": "2023-06-27T09:19:44.800946Z",
          "iopub.status.idle": "2023-06-27T09:19:44.819408Z",
          "shell.execute_reply": "2023-06-27T09:19:44.817658Z"
        },
        "papermill": {
          "duration": 0.034553,
          "end_time": "2023-06-27T09:19:44.822772",
          "exception": false,
          "start_time": "2023-06-27T09:19:44.788219",
          "status": "completed"
        },
        "tags": [],
        "id": "55d51b0d",
        "outputId": "cf7be1a6-d6fd-416b-9d43-3e3e305bc204"
      },
      "outputs": [
        {
          "data": {
            "text/html": [
              "<div>\n",
              "<style scoped>\n",
              "    .dataframe tbody tr th:only-of-type {\n",
              "        vertical-align: middle;\n",
              "    }\n",
              "\n",
              "    .dataframe tbody tr th {\n",
              "        vertical-align: top;\n",
              "    }\n",
              "\n",
              "    .dataframe thead th {\n",
              "        text-align: right;\n",
              "    }\n",
              "</style>\n",
              "<table border=\"1\" class=\"dataframe\">\n",
              "  <thead>\n",
              "    <tr style=\"text-align: right;\">\n",
              "      <th></th>\n",
              "      <th>filename</th>\n",
              "      <th>label</th>\n",
              "    </tr>\n",
              "  </thead>\n",
              "  <tbody>\n",
              "    <tr>\n",
              "      <th>0</th>\n",
              "      <td>/kaggle/input/butterfly-classification/test/PI...</td>\n",
              "      <td>PIPEVINE SWALLOW</td>\n",
              "    </tr>\n",
              "    <tr>\n",
              "      <th>1</th>\n",
              "      <td>/kaggle/input/butterfly-classification/test/PI...</td>\n",
              "      <td>PIPEVINE SWALLOW</td>\n",
              "    </tr>\n",
              "    <tr>\n",
              "      <th>2</th>\n",
              "      <td>/kaggle/input/butterfly-classification/test/PI...</td>\n",
              "      <td>PIPEVINE SWALLOW</td>\n",
              "    </tr>\n",
              "    <tr>\n",
              "      <th>3</th>\n",
              "      <td>/kaggle/input/butterfly-classification/test/PI...</td>\n",
              "      <td>PIPEVINE SWALLOW</td>\n",
              "    </tr>\n",
              "    <tr>\n",
              "      <th>4</th>\n",
              "      <td>/kaggle/input/butterfly-classification/test/PI...</td>\n",
              "      <td>PIPEVINE SWALLOW</td>\n",
              "    </tr>\n",
              "  </tbody>\n",
              "</table>\n",
              "</div>"
            ],
            "text/plain": [
              "                                            filename             label\n",
              "0  /kaggle/input/butterfly-classification/test/PI...  PIPEVINE SWALLOW\n",
              "1  /kaggle/input/butterfly-classification/test/PI...  PIPEVINE SWALLOW\n",
              "2  /kaggle/input/butterfly-classification/test/PI...  PIPEVINE SWALLOW\n",
              "3  /kaggle/input/butterfly-classification/test/PI...  PIPEVINE SWALLOW\n",
              "4  /kaggle/input/butterfly-classification/test/PI...  PIPEVINE SWALLOW"
            ]
          },
          "execution_count": 9,
          "metadata": {},
          "output_type": "execute_result"
        }
      ],
      "source": [
        "test['label'] = test['label'].str.split('/').str[0]\n",
        "test.head()"
      ]
    },
    {
      "cell_type": "code",
      "execution_count": null,
      "id": "af385e79",
      "metadata": {
        "execution": {
          "iopub.execute_input": "2023-06-27T09:19:44.847590Z",
          "iopub.status.busy": "2023-06-27T09:19:44.847070Z",
          "iopub.status.idle": "2023-06-27T09:21:16.222385Z",
          "shell.execute_reply": "2023-06-27T09:21:16.221315Z"
        },
        "papermill": {
          "duration": 91.402934,
          "end_time": "2023-06-27T09:21:16.236554",
          "exception": false,
          "start_time": "2023-06-27T09:19:44.833620",
          "status": "completed"
        },
        "tags": [],
        "id": "af385e79",
        "outputId": "83a586b0-0aa1-46a8-d716-4567baacbd7d"
      },
      "outputs": [
        {
          "name": "stderr",
          "output_type": "stream",
          "text": [
            "/tmp/ipykernel_20/564266034.py:4: DeprecationWarning: ANTIALIAS is deprecated and will be removed in Pillow 10 (2023-07-01). Use LANCZOS or Resampling.LANCZOS instead.\n",
            "  img = img.resize((300, 300 * img.size[1] // img.size[0]), Image.ANTIALIAS)\n"
          ]
        },
        {
          "data": {
            "text/plain": [
              "['INDRA SWALLOW',\n",
              " 'PIPEVINE SWALLOW',\n",
              " 'PIPEVINE SWALLOW',\n",
              " 'INDRA SWALLOW',\n",
              " 'PIPEVINE SWALLOW']"
            ]
          },
          "execution_count": 10,
          "metadata": {},
          "output_type": "execute_result"
        }
      ],
      "source": [
        "result=[]\n",
        "for i in test.filename:\n",
        "    img = Image.open(i).convert('RGB')\n",
        "    img = img.resize((300, 300 * img.size[1] // img.size[0]), Image.ANTIALIAS)\n",
        "    inp_numpy = np.array(img)[None]\n",
        "    inp = tf.constant(inp_numpy, dtype='float32')\n",
        "    class_scores = model(inp)[0].numpy()\n",
        "    result.append(classes[class_scores.argmax()])\n",
        "result[:5]"
      ]
    },
    {
      "cell_type": "code",
      "execution_count": null,
      "id": "162b3609",
      "metadata": {
        "execution": {
          "iopub.execute_input": "2023-06-27T09:21:16.261134Z",
          "iopub.status.busy": "2023-06-27T09:21:16.260123Z",
          "iopub.status.idle": "2023-06-27T09:21:16.277599Z",
          "shell.execute_reply": "2023-06-27T09:21:16.276321Z"
        },
        "papermill": {
          "duration": 0.032873,
          "end_time": "2023-06-27T09:21:16.280678",
          "exception": false,
          "start_time": "2023-06-27T09:21:16.247805",
          "status": "completed"
        },
        "tags": [],
        "id": "162b3609",
        "outputId": "c1b25611-7c9e-499b-c913-03bfcb943561"
      },
      "outputs": [
        {
          "data": {
            "text/html": [
              "<div>\n",
              "<style scoped>\n",
              "    .dataframe tbody tr th:only-of-type {\n",
              "        vertical-align: middle;\n",
              "    }\n",
              "\n",
              "    .dataframe tbody tr th {\n",
              "        vertical-align: top;\n",
              "    }\n",
              "\n",
              "    .dataframe thead th {\n",
              "        text-align: right;\n",
              "    }\n",
              "</style>\n",
              "<table border=\"1\" class=\"dataframe\">\n",
              "  <thead>\n",
              "    <tr style=\"text-align: right;\">\n",
              "      <th></th>\n",
              "      <th>filename</th>\n",
              "      <th>label</th>\n",
              "      <th>prediction</th>\n",
              "    </tr>\n",
              "  </thead>\n",
              "  <tbody>\n",
              "    <tr>\n",
              "      <th>0</th>\n",
              "      <td>/kaggle/input/butterfly-classification/test/PI...</td>\n",
              "      <td>PIPEVINE SWALLOW</td>\n",
              "      <td>INDRA SWALLOW</td>\n",
              "    </tr>\n",
              "    <tr>\n",
              "      <th>1</th>\n",
              "      <td>/kaggle/input/butterfly-classification/test/PI...</td>\n",
              "      <td>PIPEVINE SWALLOW</td>\n",
              "      <td>PIPEVINE SWALLOW</td>\n",
              "    </tr>\n",
              "    <tr>\n",
              "      <th>2</th>\n",
              "      <td>/kaggle/input/butterfly-classification/test/PI...</td>\n",
              "      <td>PIPEVINE SWALLOW</td>\n",
              "      <td>PIPEVINE SWALLOW</td>\n",
              "    </tr>\n",
              "    <tr>\n",
              "      <th>3</th>\n",
              "      <td>/kaggle/input/butterfly-classification/test/PI...</td>\n",
              "      <td>PIPEVINE SWALLOW</td>\n",
              "      <td>INDRA SWALLOW</td>\n",
              "    </tr>\n",
              "    <tr>\n",
              "      <th>4</th>\n",
              "      <td>/kaggle/input/butterfly-classification/test/PI...</td>\n",
              "      <td>PIPEVINE SWALLOW</td>\n",
              "      <td>PIPEVINE SWALLOW</td>\n",
              "    </tr>\n",
              "  </tbody>\n",
              "</table>\n",
              "</div>"
            ],
            "text/plain": [
              "                                            filename             label  \\\n",
              "0  /kaggle/input/butterfly-classification/test/PI...  PIPEVINE SWALLOW   \n",
              "1  /kaggle/input/butterfly-classification/test/PI...  PIPEVINE SWALLOW   \n",
              "2  /kaggle/input/butterfly-classification/test/PI...  PIPEVINE SWALLOW   \n",
              "3  /kaggle/input/butterfly-classification/test/PI...  PIPEVINE SWALLOW   \n",
              "4  /kaggle/input/butterfly-classification/test/PI...  PIPEVINE SWALLOW   \n",
              "\n",
              "         prediction  \n",
              "0     INDRA SWALLOW  \n",
              "1  PIPEVINE SWALLOW  \n",
              "2  PIPEVINE SWALLOW  \n",
              "3     INDRA SWALLOW  \n",
              "4  PIPEVINE SWALLOW  "
            ]
          },
          "execution_count": 11,
          "metadata": {},
          "output_type": "execute_result"
        }
      ],
      "source": [
        "test=test.assign(prediction=result)\n",
        "test.head()"
      ]
    },
    {
      "cell_type": "code",
      "execution_count": null,
      "id": "35909b8c",
      "metadata": {
        "execution": {
          "iopub.execute_input": "2023-06-27T09:21:16.306164Z",
          "iopub.status.busy": "2023-06-27T09:21:16.305660Z",
          "iopub.status.idle": "2023-06-27T09:27:17.994101Z",
          "shell.execute_reply": "2023-06-27T09:27:17.992489Z"
        },
        "papermill": {
          "duration": 361.715422,
          "end_time": "2023-06-27T09:27:18.007910",
          "exception": false,
          "start_time": "2023-06-27T09:21:16.292488",
          "status": "completed"
        },
        "tags": [],
        "id": "35909b8c",
        "outputId": "20245a1a-2101-47a9-a9ea-9684acfca81d"
      },
      "outputs": [
        {
          "name": "stderr",
          "output_type": "stream",
          "text": [
            "/tmp/ipykernel_20/1967585974.py:4: DeprecationWarning: ANTIALIAS is deprecated and will be removed in Pillow 10 (2023-07-01). Use LANCZOS or Resampling.LANCZOS instead.\n",
            "  img = img.resize((300, 300 * img.size[1] // img.size[0]), Image.ANTIALIAS)\n"
          ]
        },
        {
          "data": {
            "text/plain": [
              "['PIPEVINE SWALLOW',\n",
              " 'PIPEVINE SWALLOW',\n",
              " 'PIPEVINE SWALLOW',\n",
              " 'PIPEVINE SWALLOW',\n",
              " 'PIPEVINE SWALLOW']"
            ]
          },
          "execution_count": 12,
          "metadata": {},
          "output_type": "execute_result"
        }
      ],
      "source": [
        "result=[]\n",
        "for i in train.filename:\n",
        "    img = Image.open(i).convert('RGB')\n",
        "    img = img.resize((300, 300 * img.size[1] // img.size[0]), Image.ANTIALIAS)\n",
        "    inp_numpy = np.array(img)[None]\n",
        "    inp = tf.constant(inp_numpy, dtype='float32')\n",
        "    class_scores = model(inp)[0].numpy()\n",
        "    result.append(classes[class_scores.argmax()])\n",
        "result[:5]"
      ]
    },
    {
      "cell_type": "code",
      "execution_count": null,
      "id": "b46f44cc",
      "metadata": {
        "execution": {
          "iopub.execute_input": "2023-06-27T09:27:18.033911Z",
          "iopub.status.busy": "2023-06-27T09:27:18.033367Z",
          "iopub.status.idle": "2023-06-27T09:27:18.050799Z",
          "shell.execute_reply": "2023-06-27T09:27:18.049543Z"
        },
        "papermill": {
          "duration": 0.03441,
          "end_time": "2023-06-27T09:27:18.053570",
          "exception": false,
          "start_time": "2023-06-27T09:27:18.019160",
          "status": "completed"
        },
        "tags": [],
        "id": "b46f44cc",
        "outputId": "8f055fa3-d1f0-41cb-c6c9-7a18a32cea75"
      },
      "outputs": [
        {
          "data": {
            "text/html": [
              "<div>\n",
              "<style scoped>\n",
              "    .dataframe tbody tr th:only-of-type {\n",
              "        vertical-align: middle;\n",
              "    }\n",
              "\n",
              "    .dataframe tbody tr th {\n",
              "        vertical-align: top;\n",
              "    }\n",
              "\n",
              "    .dataframe thead th {\n",
              "        text-align: right;\n",
              "    }\n",
              "</style>\n",
              "<table border=\"1\" class=\"dataframe\">\n",
              "  <thead>\n",
              "    <tr style=\"text-align: right;\">\n",
              "      <th></th>\n",
              "      <th>filename</th>\n",
              "      <th>label</th>\n",
              "      <th>prediction</th>\n",
              "    </tr>\n",
              "  </thead>\n",
              "  <tbody>\n",
              "    <tr>\n",
              "      <th>0</th>\n",
              "      <td>/kaggle/input/butterfly-classification/train/P...</td>\n",
              "      <td>PIPEVINE SWALLOW</td>\n",
              "      <td>PIPEVINE SWALLOW</td>\n",
              "    </tr>\n",
              "    <tr>\n",
              "      <th>1</th>\n",
              "      <td>/kaggle/input/butterfly-classification/train/P...</td>\n",
              "      <td>PIPEVINE SWALLOW</td>\n",
              "      <td>PIPEVINE SWALLOW</td>\n",
              "    </tr>\n",
              "    <tr>\n",
              "      <th>2</th>\n",
              "      <td>/kaggle/input/butterfly-classification/train/P...</td>\n",
              "      <td>PIPEVINE SWALLOW</td>\n",
              "      <td>PIPEVINE SWALLOW</td>\n",
              "    </tr>\n",
              "    <tr>\n",
              "      <th>3</th>\n",
              "      <td>/kaggle/input/butterfly-classification/train/P...</td>\n",
              "      <td>PIPEVINE SWALLOW</td>\n",
              "      <td>PIPEVINE SWALLOW</td>\n",
              "    </tr>\n",
              "    <tr>\n",
              "      <th>4</th>\n",
              "      <td>/kaggle/input/butterfly-classification/train/P...</td>\n",
              "      <td>PIPEVINE SWALLOW</td>\n",
              "      <td>PIPEVINE SWALLOW</td>\n",
              "    </tr>\n",
              "  </tbody>\n",
              "</table>\n",
              "</div>"
            ],
            "text/plain": [
              "                                            filename             label  \\\n",
              "0  /kaggle/input/butterfly-classification/train/P...  PIPEVINE SWALLOW   \n",
              "1  /kaggle/input/butterfly-classification/train/P...  PIPEVINE SWALLOW   \n",
              "2  /kaggle/input/butterfly-classification/train/P...  PIPEVINE SWALLOW   \n",
              "3  /kaggle/input/butterfly-classification/train/P...  PIPEVINE SWALLOW   \n",
              "4  /kaggle/input/butterfly-classification/train/P...  PIPEVINE SWALLOW   \n",
              "\n",
              "         prediction  \n",
              "0  PIPEVINE SWALLOW  \n",
              "1  PIPEVINE SWALLOW  \n",
              "2  PIPEVINE SWALLOW  \n",
              "3  PIPEVINE SWALLOW  \n",
              "4  PIPEVINE SWALLOW  "
            ]
          },
          "execution_count": 13,
          "metadata": {},
          "output_type": "execute_result"
        }
      ],
      "source": [
        "train=train.assign(prediction=result)\n",
        "train.head()"
      ]
    },
    {
      "cell_type": "code",
      "execution_count": null,
      "id": "fd10dd87",
      "metadata": {
        "execution": {
          "iopub.execute_input": "2023-06-27T09:27:18.080919Z",
          "iopub.status.busy": "2023-06-27T09:27:18.079520Z",
          "iopub.status.idle": "2023-06-27T09:27:19.597542Z",
          "shell.execute_reply": "2023-06-27T09:27:19.595103Z"
        },
        "papermill": {
          "duration": 1.535537,
          "end_time": "2023-06-27T09:27:19.601174",
          "exception": false,
          "start_time": "2023-06-27T09:27:18.065637",
          "status": "completed"
        },
        "tags": [],
        "id": "fd10dd87",
        "outputId": "31e29734-a5dc-43c6-da21-3919404869bc"
      },
      "outputs": [
        {
          "name": "stdout",
          "output_type": "stream",
          "text": [
            "                           precision    recall  f1-score   support\n",
            "\n",
            "                   ADONIS       0.97      0.97      0.97        70\n",
            "AFRICAN GIANT SWALLOWTAIL       0.97      0.98      0.98        60\n",
            "           AMERICAN SNOOT       0.97      0.95      0.96        59\n",
            "                    AN 88       1.00      0.96      0.98        68\n",
            "                  APPOLLO       0.93      0.99      0.96        72\n",
            "                    ATALA       0.99      0.99      0.99        80\n",
            " BANDED ORANGE HELICONIAN       0.97      0.94      0.95        77\n",
            "           BANDED PEACOCK       0.95      0.94      0.95        66\n",
            "            BECKERS WHITE       0.92      0.92      0.92        65\n",
            "         BLACK HAIRSTREAK       0.97      0.99      0.98        68\n",
            "              BLUE MORPHO       0.98      0.95      0.97        60\n",
            "        BLUE SPOTTED CROW       0.90      0.96      0.93        69\n",
            "           BROWN SIPROETA       1.00      0.89      0.94        79\n",
            "            CABBAGE WHITE       0.95      0.96      0.95        72\n",
            "          CAIRNS BIRDWING       0.98      0.92      0.95        66\n",
            "       CHECQUERED SKIPPER       0.99      0.89      0.94        76\n",
            "                 CHESTNUT       1.00      0.94      0.97        68\n",
            "                CLEOPATRA       0.97      0.97      0.97        74\n",
            "       CLODIUS PARNASSIAN       1.00      0.79      0.88        70\n",
            "          CLOUDED SULPHUR       0.82      0.93      0.87        74\n",
            "        COMMON BANDED AWL       0.79      1.00      0.88        70\n",
            "        COMMON WOOD-NYMPH       0.99      0.97      0.98        72\n",
            "              COPPER TAIL       0.93      0.92      0.93        75\n",
            "                  CRECENT       0.97      0.95      0.96        77\n",
            "            CRIMSON PATCH       1.00      0.90      0.95        58\n",
            "            DANAID EGGFLY       0.91      0.99      0.95        75\n",
            "             EASTERN COMA       0.73      0.99      0.84        74\n",
            "     EASTERN DAPPLE WHITE       0.86      0.91      0.88        74\n",
            "       EASTERN PINE ELFIN       0.96      0.99      0.97        76\n",
            "          ELBOWED PIERROT       0.98      0.98      0.98        66\n",
            "              GOLD BANDED       0.93      0.93      0.93        58\n",
            "             GREAT EGGFLY       0.95      0.90      0.93        62\n",
            "                GREAT JAY       0.95      0.93      0.94        75\n",
            " GREEN CELLED CATTLEHEART       0.96      0.96      0.96        70\n",
            "          GREY HAIRSTREAK       0.96      0.96      0.96        69\n",
            "            INDRA SWALLOW       0.50      0.98      0.66        65\n",
            "          IPHICLUS SISTER       0.77      1.00      0.87        76\n",
            "                    JULIA       0.95      0.97      0.96        65\n",
            "             LARGE MARBLE       0.81      0.88      0.84        65\n",
            "                MALACHITE       0.90      0.97      0.93        58\n",
            "         MANGROVE SKIPPER       0.98      0.73      0.84        70\n",
            "                   MESTRA       0.88      0.97      0.92        69\n",
            "                METALMARK       0.78      1.00      0.88        61\n",
            "   MILBERTS TORTOISESHELL       0.91      0.96      0.94        77\n",
            "                  MONARCH       1.00      0.76      0.87        72\n",
            "           MOURNING CLOAK       0.99      0.99      0.99       105\n",
            "           ORANGE OAKLEAF       1.00      0.96      0.98        70\n",
            "               ORANGE TIP       0.99      0.90      0.94        77\n",
            "          ORCHARD SWALLOW       0.88      0.92      0.90        61\n",
            "             PAINTED LADY       0.94      1.00      0.97        62\n",
            "               PAPER KITE       0.97      0.99      0.98        72\n",
            "                  PEACOCK       1.00      0.99      0.99        67\n",
            "               PINE WHITE       0.80      0.99      0.88        69\n",
            "         PIPEVINE SWALLOW       1.00      0.70      0.82        67\n",
            "                 POPINJAY       1.00      0.82      0.90        68\n",
            "        PURPLE HAIRSTREAK       0.98      0.89      0.93        63\n",
            "          PURPLISH COPPER       1.00      0.93      0.97        74\n",
            "            QUESTION MARK       1.00      0.61      0.76        62\n",
            "              RED ADMIRAL       0.95      0.86      0.90        66\n",
            "              RED CRACKER       0.99      0.92      0.95        77\n",
            "              RED POSTMAN       1.00      0.89      0.94        71\n",
            "       RED SPOTTED PURPLE       0.98      0.91      0.95        69\n",
            "           SCARCE SWALLOW       0.93      1.00      0.96        77\n",
            "      SILVER SPOT SKIPPER       0.96      0.98      0.97        66\n",
            "            SLEEPY ORANGE       0.93      0.98      0.95        85\n",
            "                SOOTYWING       0.98      0.85      0.91        72\n",
            "         SOUTHERN DOGFACE       0.97      0.81      0.88        70\n",
            "           STRAITED QUEEN       0.99      0.97      0.98        70\n",
            "        TROPICAL LEAFWING       0.95      0.85      0.90        66\n",
            "       TWO BARRED FLASHER       0.97      0.93      0.95        61\n",
            "                   ULYSES       0.98      0.97      0.98        67\n",
            "                  VICEROY       0.84      1.00      0.92        65\n",
            "               WOOD SATYR       0.97      1.00      0.98        57\n",
            "      YELLOW SWALLOW TAIL       0.95      0.65      0.77        60\n",
            "          ZEBRA LONG WING       0.98      0.97      0.98        61\n",
            "\n",
            "                 accuracy                           0.93      5199\n",
            "                macro avg       0.94      0.93      0.93      5199\n",
            "             weighted avg       0.94      0.93      0.93      5199\n",
            "\n"
          ]
        }
      ],
      "source": [
        "from sklearn.metrics import classification_report\n",
        "print(classification_report(train['label'],train['prediction']))"
      ]
    },
    {
      "cell_type": "code",
      "execution_count": null,
      "id": "6e9a8962",
      "metadata": {
        "execution": {
          "iopub.execute_input": "2023-06-27T09:27:19.626836Z",
          "iopub.status.busy": "2023-06-27T09:27:19.626321Z",
          "iopub.status.idle": "2023-06-27T09:27:19.719752Z",
          "shell.execute_reply": "2023-06-27T09:27:19.718267Z"
        },
        "papermill": {
          "duration": 0.110117,
          "end_time": "2023-06-27T09:27:19.723368",
          "exception": false,
          "start_time": "2023-06-27T09:27:19.613251",
          "status": "completed"
        },
        "tags": [],
        "id": "6e9a8962",
        "outputId": "4fe19134-6bad-42b7-af40-c6945c551b90"
      },
      "outputs": [
        {
          "name": "stdout",
          "output_type": "stream",
          "text": [
            "                           precision    recall  f1-score   support\n",
            "\n",
            "                   ADONIS       0.85      0.94      0.89        18\n",
            "AFRICAN GIANT SWALLOWTAIL       1.00      0.87      0.93        15\n",
            "           AMERICAN SNOOT       0.88      1.00      0.94        15\n",
            "                    AN 88       1.00      0.94      0.97        17\n",
            "                  APPOLLO       0.74      0.94      0.83        18\n",
            "                    ATALA       1.00      0.95      0.97        20\n",
            " BANDED ORANGE HELICONIAN       1.00      0.80      0.89        20\n",
            "           BANDED PEACOCK       1.00      0.82      0.90        17\n",
            "            BECKERS WHITE       0.74      0.88      0.80        16\n",
            "         BLACK HAIRSTREAK       0.89      0.94      0.91        17\n",
            "              BLUE MORPHO       1.00      0.80      0.89        15\n",
            "        BLUE SPOTTED CROW       0.77      1.00      0.87        17\n",
            "           BROWN SIPROETA       1.00      0.70      0.82        20\n",
            "            CABBAGE WHITE       1.00      1.00      1.00        18\n",
            "          CAIRNS BIRDWING       0.82      0.53      0.64        17\n",
            "       CHECQUERED SKIPPER       0.94      0.89      0.92        19\n",
            "                 CHESTNUT       1.00      0.76      0.87        17\n",
            "                CLEOPATRA       0.89      0.89      0.89        19\n",
            "       CLODIUS PARNASSIAN       0.89      0.47      0.62        17\n",
            "          CLOUDED SULPHUR       0.52      0.72      0.60        18\n",
            "        COMMON BANDED AWL       0.71      1.00      0.83        17\n",
            "        COMMON WOOD-NYMPH       1.00      1.00      1.00        18\n",
            "              COPPER TAIL       0.87      0.68      0.76        19\n",
            "                  CRECENT       1.00      0.85      0.92        20\n",
            "            CRIMSON PATCH       1.00      0.64      0.78        14\n",
            "            DANAID EGGFLY       0.72      0.95      0.82        19\n",
            "             EASTERN COMA       0.59      0.89      0.71        19\n",
            "     EASTERN DAPPLE WHITE       0.74      0.78      0.76        18\n",
            "       EASTERN PINE ELFIN       0.85      0.89      0.87        19\n",
            "          ELBOWED PIERROT       0.94      0.94      0.94        16\n",
            "              GOLD BANDED       0.76      0.87      0.81        15\n",
            "             GREAT EGGFLY       0.92      0.75      0.83        16\n",
            "                GREAT JAY       0.85      0.89      0.87        19\n",
            " GREEN CELLED CATTLEHEART       0.87      0.72      0.79        18\n",
            "          GREY HAIRSTREAK       0.78      0.82      0.80        17\n",
            "            INDRA SWALLOW       0.35      0.94      0.51        16\n",
            "          IPHICLUS SISTER       0.62      0.95      0.75        19\n",
            "                    JULIA       0.89      1.00      0.94        16\n",
            "             LARGE MARBLE       0.88      0.88      0.88        16\n",
            "                MALACHITE       0.83      1.00      0.91        15\n",
            "         MANGROVE SKIPPER       0.93      0.82      0.87        17\n",
            "                   MESTRA       0.94      0.88      0.91        17\n",
            "                METALMARK       0.56      0.93      0.70        15\n",
            "   MILBERTS TORTOISESHELL       1.00      0.84      0.91        19\n",
            "                  MONARCH       0.92      0.61      0.73        18\n",
            "           MOURNING CLOAK       0.96      0.88      0.92        26\n",
            "           ORANGE OAKLEAF       1.00      0.94      0.97        17\n",
            "               ORANGE TIP       0.89      0.89      0.89        19\n",
            "          ORCHARD SWALLOW       0.50      0.80      0.62        15\n",
            "             PAINTED LADY       0.80      1.00      0.89        16\n",
            "               PAPER KITE       0.89      0.94      0.92        18\n",
            "                  PEACOCK       1.00      0.94      0.97        17\n",
            "               PINE WHITE       0.64      0.94      0.76        17\n",
            "         PIPEVINE SWALLOW       0.89      0.47      0.62        17\n",
            "                 POPINJAY       1.00      0.71      0.83        17\n",
            "        PURPLE HAIRSTREAK       1.00      0.56      0.72        16\n",
            "          PURPLISH COPPER       0.78      0.78      0.78        18\n",
            "            QUESTION MARK       0.80      0.53      0.64        15\n",
            "              RED ADMIRAL       1.00      0.81      0.90        16\n",
            "              RED CRACKER       0.79      0.79      0.79        19\n",
            "              RED POSTMAN       0.88      0.78      0.82        18\n",
            "       RED SPOTTED PURPLE       0.88      0.82      0.85        17\n",
            "           SCARCE SWALLOW       1.00      1.00      1.00        20\n",
            "      SILVER SPOT SKIPPER       0.88      0.88      0.88        17\n",
            "            SLEEPY ORANGE       0.86      0.86      0.86        22\n",
            "                SOOTYWING       1.00      0.50      0.67        18\n",
            "         SOUTHERN DOGFACE       0.89      0.47      0.62        17\n",
            "           STRAITED QUEEN       0.88      0.82      0.85        17\n",
            "        TROPICAL LEAFWING       1.00      0.76      0.87        17\n",
            "       TWO BARRED FLASHER       1.00      0.73      0.85        15\n",
            "                   ULYSES       0.89      0.94      0.91        17\n",
            "                  VICEROY       0.70      1.00      0.82        16\n",
            "               WOOD SATYR       0.93      1.00      0.97        14\n",
            "      YELLOW SWALLOW TAIL       1.00      0.67      0.80        15\n",
            "          ZEBRA LONG WING       1.00      0.87      0.93        15\n",
            "\n",
            "                 accuracy                           0.83      1300\n",
            "                macro avg       0.87      0.83      0.84      1300\n",
            "             weighted avg       0.87      0.83      0.84      1300\n",
            "\n"
          ]
        }
      ],
      "source": [
        "print(classification_report(test['label'],test['prediction']))"
      ]
    },
    {
      "cell_type": "code",
      "execution_count": null,
      "id": "c0826858",
      "metadata": {
        "execution": {
          "iopub.execute_input": "2023-06-27T09:27:19.749706Z",
          "iopub.status.busy": "2023-06-27T09:27:19.749220Z",
          "iopub.status.idle": "2023-06-27T09:27:21.089637Z",
          "shell.execute_reply": "2023-06-27T09:27:21.088438Z"
        },
        "papermill": {
          "duration": 1.356636,
          "end_time": "2023-06-27T09:27:21.092165",
          "exception": false,
          "start_time": "2023-06-27T09:27:19.735529",
          "status": "completed"
        },
        "tags": [],
        "id": "c0826858",
        "outputId": "0ead8d79-4e83-4b8a-ac27-9d0c6418ce7b"
      },
      "outputs": [
        {
          "data": {
            "text/plain": [
              "['/kaggle/input/butterfly-classification/sol/Image_885_898de6ba608542fcb5d55537c64180ca.jpg',\n",
              " '/kaggle/input/butterfly-classification/sol/Image_1441_eebf391c7feb421fbc2dd07c3483e4ca.jpg',\n",
              " '/kaggle/input/butterfly-classification/sol/Image_2346_679085a80431458ca195379eb39ec6a9.jpg',\n",
              " '/kaggle/input/butterfly-classification/sol/Image_272_733a042aba15496f8e4b10052becd5e4.jpg',\n",
              " '/kaggle/input/butterfly-classification/sol/Image_2381_6ba40de63d9f42e38ad96ace78bcb0fc.jpg']"
            ]
          },
          "execution_count": 16,
          "metadata": {},
          "output_type": "execute_result"
        }
      ],
      "source": [
        "Id=[]\n",
        "import numpy as np\n",
        "import pandas as pd\n",
        "\n",
        "import os\n",
        "for dirname, _, filenames in os.walk('./butterfly-classification/sol'):\n",
        "    for filename in filenames:\n",
        "        Id.append(os.path.join(dirname, filename))\n",
        "Id[:5]"
      ]
    },
    {
      "cell_type": "code",
      "execution_count": null,
      "id": "6883a9bc",
      "metadata": {
        "execution": {
          "iopub.execute_input": "2023-06-27T09:27:21.118868Z",
          "iopub.status.busy": "2023-06-27T09:27:21.117788Z",
          "iopub.status.idle": "2023-06-27T09:27:21.133330Z",
          "shell.execute_reply": "2023-06-27T09:27:21.131934Z"
        },
        "papermill": {
          "duration": 0.03224,
          "end_time": "2023-06-27T09:27:21.136465",
          "exception": false,
          "start_time": "2023-06-27T09:27:21.104225",
          "status": "completed"
        },
        "tags": [],
        "id": "6883a9bc",
        "outputId": "9f3503ac-5347-40ea-9637-4be3b1998f39"
      },
      "outputs": [
        {
          "data": {
            "text/html": [
              "<div>\n",
              "<style scoped>\n",
              "    .dataframe tbody tr th:only-of-type {\n",
              "        vertical-align: middle;\n",
              "    }\n",
              "\n",
              "    .dataframe tbody tr th {\n",
              "        vertical-align: top;\n",
              "    }\n",
              "\n",
              "    .dataframe thead th {\n",
              "        text-align: right;\n",
              "    }\n",
              "</style>\n",
              "<table border=\"1\" class=\"dataframe\">\n",
              "  <thead>\n",
              "    <tr style=\"text-align: right;\">\n",
              "      <th></th>\n",
              "      <th>filename</th>\n",
              "    </tr>\n",
              "  </thead>\n",
              "  <tbody>\n",
              "    <tr>\n",
              "      <th>0</th>\n",
              "      <td>/kaggle/input/butterfly-classification/sol/Ima...</td>\n",
              "    </tr>\n",
              "    <tr>\n",
              "      <th>1</th>\n",
              "      <td>/kaggle/input/butterfly-classification/sol/Ima...</td>\n",
              "    </tr>\n",
              "    <tr>\n",
              "      <th>2</th>\n",
              "      <td>/kaggle/input/butterfly-classification/sol/Ima...</td>\n",
              "    </tr>\n",
              "    <tr>\n",
              "      <th>3</th>\n",
              "      <td>/kaggle/input/butterfly-classification/sol/Ima...</td>\n",
              "    </tr>\n",
              "    <tr>\n",
              "      <th>4</th>\n",
              "      <td>/kaggle/input/butterfly-classification/sol/Ima...</td>\n",
              "    </tr>\n",
              "  </tbody>\n",
              "</table>\n",
              "</div>"
            ],
            "text/plain": [
              "                                            filename\n",
              "0  /kaggle/input/butterfly-classification/sol/Ima...\n",
              "1  /kaggle/input/butterfly-classification/sol/Ima...\n",
              "2  /kaggle/input/butterfly-classification/sol/Ima...\n",
              "3  /kaggle/input/butterfly-classification/sol/Ima...\n",
              "4  /kaggle/input/butterfly-classification/sol/Ima..."
            ]
          },
          "execution_count": 17,
          "metadata": {},
          "output_type": "execute_result"
        }
      ],
      "source": [
        "sol=pd.DataFrame()\n",
        "sol=sol.assign(filename=Id)\n",
        "sol.head()"
      ]
    },
    {
      "cell_type": "code",
      "execution_count": null,
      "id": "ee14f394",
      "metadata": {
        "execution": {
          "iopub.execute_input": "2023-06-27T09:27:21.162392Z",
          "iopub.status.busy": "2023-06-27T09:27:21.161898Z",
          "iopub.status.idle": "2023-06-27T09:27:21.206562Z",
          "shell.execute_reply": "2023-06-27T09:27:21.205598Z"
        },
        "papermill": {
          "duration": 0.060473,
          "end_time": "2023-06-27T09:27:21.209251",
          "exception": false,
          "start_time": "2023-06-27T09:27:21.148778",
          "status": "completed"
        },
        "tags": [],
        "id": "ee14f394",
        "outputId": "0fc61abb-d854-460d-e46a-cde8ec71b827"
      },
      "outputs": [
        {
          "data": {
            "text/html": [
              "<div>\n",
              "<style scoped>\n",
              "    .dataframe tbody tr th:only-of-type {\n",
              "        vertical-align: middle;\n",
              "    }\n",
              "\n",
              "    .dataframe tbody tr th {\n",
              "        vertical-align: top;\n",
              "    }\n",
              "\n",
              "    .dataframe thead th {\n",
              "        text-align: right;\n",
              "    }\n",
              "</style>\n",
              "<table border=\"1\" class=\"dataframe\">\n",
              "  <thead>\n",
              "    <tr style=\"text-align: right;\">\n",
              "      <th></th>\n",
              "      <th>filename</th>\n",
              "      <th>id</th>\n",
              "    </tr>\n",
              "  </thead>\n",
              "  <tbody>\n",
              "    <tr>\n",
              "      <th>881</th>\n",
              "      <td>/kaggle/input/butterfly-classification/sol/Ima...</td>\n",
              "      <td>Image_1.jpg</td>\n",
              "    </tr>\n",
              "    <tr>\n",
              "      <th>596</th>\n",
              "      <td>/kaggle/input/butterfly-classification/sol/Ima...</td>\n",
              "      <td>Image_2.jpg</td>\n",
              "    </tr>\n",
              "    <tr>\n",
              "      <th>2099</th>\n",
              "      <td>/kaggle/input/butterfly-classification/sol/Ima...</td>\n",
              "      <td>Image_3.jpg</td>\n",
              "    </tr>\n",
              "    <tr>\n",
              "      <th>2021</th>\n",
              "      <td>/kaggle/input/butterfly-classification/sol/Ima...</td>\n",
              "      <td>Image_4.jpg</td>\n",
              "    </tr>\n",
              "    <tr>\n",
              "      <th>1035</th>\n",
              "      <td>/kaggle/input/butterfly-classification/sol/Ima...</td>\n",
              "      <td>Image_5.jpg</td>\n",
              "    </tr>\n",
              "  </tbody>\n",
              "</table>\n",
              "</div>"
            ],
            "text/plain": [
              "                                               filename           id\n",
              "881   /kaggle/input/butterfly-classification/sol/Ima...  Image_1.jpg\n",
              "596   /kaggle/input/butterfly-classification/sol/Ima...  Image_2.jpg\n",
              "2099  /kaggle/input/butterfly-classification/sol/Ima...  Image_3.jpg\n",
              "2021  /kaggle/input/butterfly-classification/sol/Ima...  Image_4.jpg\n",
              "1035  /kaggle/input/butterfly-classification/sol/Ima...  Image_5.jpg"
            ]
          },
          "execution_count": 18,
          "metadata": {},
          "output_type": "execute_result"
        }
      ],
      "source": [
        "sol['file'] = sol['filename'].str.split('/').str[-1]\n",
        "sol['id'] = sol['file'].str.split('_').str[1]\n",
        "sol['id']=sol['id'].astype('int')\n",
        "sol=sol.sort_values(by=['id'])\n",
        "sol['id']='Image_'+sol['id'].astype('str')+'.jpg'\n",
        "sol=sol.drop(['file'],axis=1)\n",
        "sol.head()"
      ]
    },
    {
      "cell_type": "code",
      "execution_count": null,
      "id": "bf518faf",
      "metadata": {
        "execution": {
          "iopub.execute_input": "2023-06-27T09:27:21.235635Z",
          "iopub.status.busy": "2023-06-27T09:27:21.234665Z",
          "iopub.status.idle": "2023-06-27T09:30:15.907836Z",
          "shell.execute_reply": "2023-06-27T09:30:15.906799Z"
        },
        "papermill": {
          "duration": 174.701454,
          "end_time": "2023-06-27T09:30:15.922633",
          "exception": false,
          "start_time": "2023-06-27T09:27:21.221179",
          "status": "completed"
        },
        "tags": [],
        "id": "bf518faf",
        "outputId": "b8844b5c-6692-4365-c4e5-f24745304f54"
      },
      "outputs": [
        {
          "name": "stderr",
          "output_type": "stream",
          "text": [
            "/tmp/ipykernel_20/3826586461.py:4: DeprecationWarning: ANTIALIAS is deprecated and will be removed in Pillow 10 (2023-07-01). Use LANCZOS or Resampling.LANCZOS instead.\n",
            "  img = img.resize((300, 300 * img.size[1] // img.size[0]), Image.ANTIALIAS)\n"
          ]
        },
        {
          "data": {
            "text/plain": [
              "['PINE WHITE',\n",
              " 'INDRA SWALLOW',\n",
              " 'INDRA SWALLOW',\n",
              " 'IPHICLUS SISTER',\n",
              " 'MILBERTS TORTOISESHELL']"
            ]
          },
          "execution_count": 19,
          "metadata": {},
          "output_type": "execute_result"
        }
      ],
      "source": [
        "result=[]\n",
        "for i in sol.filename:\n",
        "    img = Image.open(i).convert('RGB')\n",
        "    img = img.resize((300, 300 * img.size[1] // img.size[0]), Image.ANTIALIAS)\n",
        "    inp_numpy = np.array(img)[None]\n",
        "    inp = tf.constant(inp_numpy, dtype='float32')\n",
        "    class_scores = model(inp)[0].numpy()\n",
        "    result.append(classes[class_scores.argmax()])\n",
        "result[:5]"
      ]
    },
    {
      "cell_type": "code",
      "execution_count": null,
      "id": "2d277b95",
      "metadata": {
        "execution": {
          "iopub.execute_input": "2023-06-27T09:30:15.950868Z",
          "iopub.status.busy": "2023-06-27T09:30:15.950141Z",
          "iopub.status.idle": "2023-06-27T09:30:15.963641Z",
          "shell.execute_reply": "2023-06-27T09:30:15.962312Z"
        },
        "papermill": {
          "duration": 0.031109,
          "end_time": "2023-06-27T09:30:15.966785",
          "exception": false,
          "start_time": "2023-06-27T09:30:15.935676",
          "status": "completed"
        },
        "tags": [],
        "id": "2d277b95",
        "outputId": "4f502193-9889-4282-9939-0bd2b23e3b71"
      },
      "outputs": [
        {
          "data": {
            "text/html": [
              "<div>\n",
              "<style scoped>\n",
              "    .dataframe tbody tr th:only-of-type {\n",
              "        vertical-align: middle;\n",
              "    }\n",
              "\n",
              "    .dataframe tbody tr th {\n",
              "        vertical-align: top;\n",
              "    }\n",
              "\n",
              "    .dataframe thead th {\n",
              "        text-align: right;\n",
              "    }\n",
              "</style>\n",
              "<table border=\"1\" class=\"dataframe\">\n",
              "  <thead>\n",
              "    <tr style=\"text-align: right;\">\n",
              "      <th></th>\n",
              "      <th>filename</th>\n",
              "      <th>id</th>\n",
              "      <th>label</th>\n",
              "    </tr>\n",
              "  </thead>\n",
              "  <tbody>\n",
              "    <tr>\n",
              "      <th>881</th>\n",
              "      <td>/kaggle/input/butterfly-classification/sol/Ima...</td>\n",
              "      <td>Image_1.jpg</td>\n",
              "      <td>PINE WHITE</td>\n",
              "    </tr>\n",
              "    <tr>\n",
              "      <th>596</th>\n",
              "      <td>/kaggle/input/butterfly-classification/sol/Ima...</td>\n",
              "      <td>Image_2.jpg</td>\n",
              "      <td>INDRA SWALLOW</td>\n",
              "    </tr>\n",
              "    <tr>\n",
              "      <th>2099</th>\n",
              "      <td>/kaggle/input/butterfly-classification/sol/Ima...</td>\n",
              "      <td>Image_3.jpg</td>\n",
              "      <td>INDRA SWALLOW</td>\n",
              "    </tr>\n",
              "    <tr>\n",
              "      <th>2021</th>\n",
              "      <td>/kaggle/input/butterfly-classification/sol/Ima...</td>\n",
              "      <td>Image_4.jpg</td>\n",
              "      <td>IPHICLUS SISTER</td>\n",
              "    </tr>\n",
              "    <tr>\n",
              "      <th>1035</th>\n",
              "      <td>/kaggle/input/butterfly-classification/sol/Ima...</td>\n",
              "      <td>Image_5.jpg</td>\n",
              "      <td>MILBERTS TORTOISESHELL</td>\n",
              "    </tr>\n",
              "  </tbody>\n",
              "</table>\n",
              "</div>"
            ],
            "text/plain": [
              "                                               filename           id  \\\n",
              "881   /kaggle/input/butterfly-classification/sol/Ima...  Image_1.jpg   \n",
              "596   /kaggle/input/butterfly-classification/sol/Ima...  Image_2.jpg   \n",
              "2099  /kaggle/input/butterfly-classification/sol/Ima...  Image_3.jpg   \n",
              "2021  /kaggle/input/butterfly-classification/sol/Ima...  Image_4.jpg   \n",
              "1035  /kaggle/input/butterfly-classification/sol/Ima...  Image_5.jpg   \n",
              "\n",
              "                       label  \n",
              "881               PINE WHITE  \n",
              "596            INDRA SWALLOW  \n",
              "2099           INDRA SWALLOW  \n",
              "2021         IPHICLUS SISTER  \n",
              "1035  MILBERTS TORTOISESHELL  "
            ]
          },
          "execution_count": 20,
          "metadata": {},
          "output_type": "execute_result"
        }
      ],
      "source": [
        "sol=sol.assign(label=result)\n",
        "sol.head()"
      ]
    },
    {
      "cell_type": "code",
      "execution_count": null,
      "id": "2fa83bf2",
      "metadata": {
        "execution": {
          "iopub.execute_input": "2023-06-27T09:30:15.995573Z",
          "iopub.status.busy": "2023-06-27T09:30:15.995007Z",
          "iopub.status.idle": "2023-06-27T09:30:16.010521Z",
          "shell.execute_reply": "2023-06-27T09:30:16.009215Z"
        },
        "papermill": {
          "duration": 0.033153,
          "end_time": "2023-06-27T09:30:16.013021",
          "exception": false,
          "start_time": "2023-06-27T09:30:15.979868",
          "status": "completed"
        },
        "tags": [],
        "id": "2fa83bf2",
        "outputId": "2581d449-9671-489a-c40c-a956933172fb"
      },
      "outputs": [
        {
          "data": {
            "text/html": [
              "<div>\n",
              "<style scoped>\n",
              "    .dataframe tbody tr th:only-of-type {\n",
              "        vertical-align: middle;\n",
              "    }\n",
              "\n",
              "    .dataframe tbody tr th {\n",
              "        vertical-align: top;\n",
              "    }\n",
              "\n",
              "    .dataframe thead th {\n",
              "        text-align: right;\n",
              "    }\n",
              "</style>\n",
              "<table border=\"1\" class=\"dataframe\">\n",
              "  <thead>\n",
              "    <tr style=\"text-align: right;\">\n",
              "      <th></th>\n",
              "      <th>filename</th>\n",
              "      <th>label</th>\n",
              "    </tr>\n",
              "  </thead>\n",
              "  <tbody>\n",
              "    <tr>\n",
              "      <th>0</th>\n",
              "      <td>Image_1.jpg</td>\n",
              "      <td>PINE WHITE</td>\n",
              "    </tr>\n",
              "    <tr>\n",
              "      <th>1</th>\n",
              "      <td>Image_2.jpg</td>\n",
              "      <td>INDRA SWALLOW</td>\n",
              "    </tr>\n",
              "    <tr>\n",
              "      <th>2</th>\n",
              "      <td>Image_3.jpg</td>\n",
              "      <td>INDRA SWALLOW</td>\n",
              "    </tr>\n",
              "    <tr>\n",
              "      <th>3</th>\n",
              "      <td>Image_4.jpg</td>\n",
              "      <td>IPHICLUS SISTER</td>\n",
              "    </tr>\n",
              "    <tr>\n",
              "      <th>4</th>\n",
              "      <td>Image_5.jpg</td>\n",
              "      <td>MILBERTS TORTOISESHELL</td>\n",
              "    </tr>\n",
              "  </tbody>\n",
              "</table>\n",
              "</div>"
            ],
            "text/plain": [
              "      filename                   label\n",
              "0  Image_1.jpg              PINE WHITE\n",
              "1  Image_2.jpg           INDRA SWALLOW\n",
              "2  Image_3.jpg           INDRA SWALLOW\n",
              "3  Image_4.jpg         IPHICLUS SISTER\n",
              "4  Image_5.jpg  MILBERTS TORTOISESHELL"
            ]
          },
          "execution_count": 21,
          "metadata": {},
          "output_type": "execute_result"
        }
      ],
      "source": [
        "sol=sol.drop(['filename'],axis=1)\n",
        "sol.columns=['filename','label']\n",
        "sol.reset_index(inplace=True,drop=True)\n",
        "sol.head()"
      ]
    },
    {
      "cell_type": "code",
      "execution_count": null,
      "id": "f57a264b",
      "metadata": {
        "execution": {
          "iopub.execute_input": "2023-06-27T09:30:16.041112Z",
          "iopub.status.busy": "2023-06-27T09:30:16.040657Z",
          "iopub.status.idle": "2023-06-27T09:30:16.063221Z",
          "shell.execute_reply": "2023-06-27T09:30:16.061897Z"
        },
        "papermill": {
          "duration": 0.040019,
          "end_time": "2023-06-27T09:30:16.066387",
          "exception": false,
          "start_time": "2023-06-27T09:30:16.026368",
          "status": "completed"
        },
        "tags": [],
        "id": "f57a264b"
      },
      "outputs": [],
      "source": [
        "sol.to_csv('./MobileNet.csv',index=False)"
      ]
    }
  ],
  "metadata": {
    "kernelspec": {
      "display_name": "Python 3",
      "language": "python",
      "name": "python3"
    },
    "language_info": {
      "codemirror_mode": {
        "name": "ipython",
        "version": 3
      },
      "file_extension": ".py",
      "mimetype": "text/x-python",
      "name": "python",
      "nbconvert_exporter": "python",
      "pygments_lexer": "ipython3",
      "version": "3.10.10"
    },
    "papermill": {
      "default_parameters": {},
      "duration": 674.747794,
      "end_time": "2023-06-27T09:30:19.210051",
      "environment_variables": {},
      "exception": null,
      "input_path": "__notebook__.ipynb",
      "output_path": "__notebook__.ipynb",
      "parameters": {},
      "start_time": "2023-06-27T09:19:04.462257",
      "version": "2.4.0"
    },
    "colab": {
      "provenance": []
    }
  },
  "nbformat": 4,
  "nbformat_minor": 5
}